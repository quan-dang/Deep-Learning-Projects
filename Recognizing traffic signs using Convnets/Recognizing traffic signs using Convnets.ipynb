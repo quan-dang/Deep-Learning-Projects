{
 "cells": [
  {
   "cell_type": "markdown",
   "metadata": {},
   "source": [
    "# Recognizing traffic signs using Convnets\n",
    "## Description\n",
    "This project takes advantage of Convnets to recognize traffic signs, in which Convnets will be trained from scratch using Tensorflow.\n",
    "## Dataset\n",
    "The dataset using in this project is German Traffic Sign Recognition Benchmark (GTSRB), taken from Institut für Neuroinformatik.\n",
    "\n",
    "Downloaded link: http://benchmark.ini.rub.de/?section=gtsrb&subsection=dataset\n",
    "\n",
    "On Linux systems: wget -q http://benchmark.ini.rub.de/Dataset/GTSRB_Final_Training_Images.zip"
   ]
  },
  {
   "cell_type": "code",
   "execution_count": 1,
   "metadata": {},
   "outputs": [],
   "source": [
    "# define general params\n",
    "num_classes = 43\n",
    "resized_image = (32, 32)\n",
    "\n",
    "# define the random seed\n",
    "seed = 101\n",
    "np.random.seed(seed)"
   ]
  },
  {
   "cell_type": "code",
   "execution_count": 3,
   "metadata": {},
   "outputs": [],
   "source": [
    "import matplotlib.pyplot as plt\n",
    "import glob\n",
    "from skimage.color import rgb2lab\n",
    "from skimage.transform import resize\n",
    "from collections import namedtuple\n",
    "import numpy as np\n",
    "\n",
    "%matplotlib inline"
   ]
  },
  {
   "cell_type": "markdown",
   "metadata": {},
   "source": [
    "## Load the dataset"
   ]
  },
  {
   "cell_type": "code",
   "execution_count": 4,
   "metadata": {},
   "outputs": [],
   "source": [
    "# create a new object dataset\n",
    "dataset = namedtuple('dataset', ['X', 'y'])"
   ]
  },
  {
   "cell_type": "code",
   "execution_count": 5,
   "metadata": {},
   "outputs": [],
   "source": [
    "# convert each image to a 3D vector, and concatenate all of them along the axis=0 \n",
    "def to_tf_format(imgs):\n",
    "    return np.stack([img[:, :, np.newaxis] for img in imgs], axis=0).astype(np.float32)"
   ]
  },
  {
   "cell_type": "code",
   "execution_count": 10,
   "metadata": {},
   "outputs": [],
   "source": [
    "# function to read the dataset \n",
    "def read_dataset_ppm(rootpath, n_labels, resize_to):\n",
    "    images = []\n",
    "    labels = []\n",
    "    \n",
    "    for c in range(n_labels):\n",
    "        full_path = rootpath + '/' + format(c, '05d') + '/'\n",
    "        \n",
    "        for img_name in glob.glob(full_path + '*.ppm'):\n",
    "            img = plt.imread(img_name).astype(np.float32)\n",
    "            img = rgb2lab(img/255.0)[:,:,0]\n",
    "            \n",
    "            if resize_to:\n",
    "                img = resize(img, resize_to, mode='reflect') # points outside the boundaries of the input are filled according to 'reflect' mode\n",
    "            \n",
    "            # one-hot encoding labels manually\n",
    "            label = np.zeros((n_labels, ), dtype=np.float32)\n",
    "            label[c] = 1.0\n",
    "            \n",
    "            images.append(img.astype(np.float32))\n",
    "            labels.append(label)\n",
    "            \n",
    "    return dataset(X=to_tf_format(images).astype(np.float32),\n",
    "                  y=np.matrix(labels).astype(np.float32))"
   ]
  },
  {
   "cell_type": "code",
   "execution_count": 11,
   "metadata": {},
   "outputs": [
    {
     "name": "stdout",
     "output_type": "stream",
     "text": [
      "(39209, 32, 32, 1)\n",
      "(39209, 43)\n"
     ]
    }
   ],
   "source": [
    "# read the dataset\n",
    "dataset = read_dataset_ppm('./data/GTSRB/Final_Training/Images', num_classes, resized_image)\n",
    "\n",
    "# examine the dataset\n",
    "print(dataset.X.shape)\n",
    "print(dataset.y.shape)"
   ]
  },
  {
   "cell_type": "code",
   "execution_count": 18,
   "metadata": {},
   "outputs": [
    {
     "name": "stdout",
     "output_type": "stream",
     "text": [
      "[[0. 1. 0. 0. 0. 0. 0. 0. 0. 0. 0. 0. 0. 0. 0. 0. 0. 0. 0. 0. 0. 0. 0. 0.\n",
      "  0. 0. 0. 0. 0. 0. 0. 0. 0. 0. 0. 0. 0. 0. 0. 0. 0. 0. 0.]]\n"
     ]
    },
    {
     "data": {
      "image/png": "[encoded data removed]",
      "text/plain": [
       "<Figure size 432x288 with 1 Axes>"
      ]
     },
     "metadata": {
      "needs_background": "light"
     },
     "output_type": "display_data"
    }
   ],
   "source": [
    "# show a sample image from the dataset\n",
    "plt.imshow(dataset.X[0, :, :, :].reshape(resized_image))\n",
    "print(dataset.y[0, :])"
   ]
  },
  {
   "cell_type": "code",
   "execution_count": 19,
   "metadata": {},
   "outputs": [
    {
     "name": "stdout",
     "output_type": "stream",
     "text": [
      "[[0. 0. 0. 0. 0. 0. 0. 0. 0. 0. 0. 0. 0. 0. 0. 0. 0. 0. 0. 0. 0. 0. 0. 0.\n",
      "  0. 0. 0. 0. 0. 0. 0. 0. 0. 0. 0. 0. 0. 0. 0. 0. 0. 0. 1.]]\n"
     ]
    },
    {
     "data": {
      "image/png": "[encoded data removed]",
      "text/plain": [
       "<Figure size 432x288 with 1 Axes>"
      ]
     },
     "metadata": {
      "needs_background": "light"
     },
     "output_type": "display_data"
    }
   ],
   "source": [
    "# show the last image from the dataset\n",
    "plt.imshow(dataset.X[-1, :, :, :].reshape(resized_image))\n",
    "print(dataset.y[-1, :])"
   ]
  },
  {
   "cell_type": "markdown",
   "metadata": {},
   "source": [
    "## Split the dataset into training and testing datasets"
   ]
  },
  {
   "cell_type": "code",
   "execution_count": 21,
   "metadata": {},
   "outputs": [
    {
     "name": "stdout",
     "output_type": "stream",
     "text": [
      "(29406, 32, 32, 1)\n",
      "(9803, 32, 32, 1)\n",
      "(29406, 43)\n",
      "(9803, 43)\n"
     ]
    }
   ],
   "source": [
    "# split the dataset into training and testing datasets\n",
    "from sklearn.model_selection import train_test_split\n",
    "X_train, X_test, y_train, y_test = train_test_split(dataset.X, dataset.y, test_size=0.25, random_state=42)\n",
    "\n",
    "# examine the shape of the new 4 datasets\n",
    "print(X_train.shape)\n",
    "print(X_test.shape)\n",
    "print(y_train.shape)\n",
    "print(y_test.shape)"
   ]
  },
  {
   "cell_type": "markdown",
   "metadata": {},
   "source": [
    "## Build the neural network with Tensorflow"
   ]
  },
  {
   "cell_type": "code",
   "execution_count": 22,
   "metadata": {},
   "outputs": [],
   "source": [
    "# create minibatch\n",
    "def minibatcher(X, y, batch_size, shuffle):\n",
    "    assert(X.shape[0] == y.shape[0])\n",
    "    n_samples = X.shape[0]\n",
    "    \n",
    "    if shuffle:\n",
    "        idx = np.random.permutation(n_samples)\n",
    "    else:\n",
    "        idx = list(range(n_samples))\n",
    "    \n",
    "    for k in range(int(np.ceil(n_samples/batch_size))):\n",
    "        from_idx = k*batch_size\n",
    "        to_idx = (k+1)*batch_size\n",
    "        yield X[idx[from_idx:to_idx], :, :, :], y[idx[from_idx:to_idx], :]"
   ]
  },
  {
   "cell_type": "code",
   "execution_count": 27,
   "metadata": {},
   "outputs": [
    {
     "name": "stdout",
     "output_type": "stream",
     "text": [
      "(10000, 32, 32, 1) (10000, 43)\n",
      "(10000, 32, 32, 1) (10000, 43)\n",
      "(9406, 32, 32, 1) (9406, 43)\n"
     ]
    }
   ],
   "source": [
    "# print minibatch yielded from minibatcher\n",
    "for minibatch in minibatcher(X_train, y_train, 10000, shuffle=True):\n",
    "    print(minibatch[0].shape, minibatch[1].shape) # minibatch[0] is input and [1] is output"
   ]
  },
  {
   "cell_type": "code",
   "execution_count": 42,
   "metadata": {},
   "outputs": [],
   "source": [
    "import tensorflow as tf\n",
    "\n",
    "# fully-connected layer without activation\n",
    "def fc_wo_activation_layer(in_tensors, n_units):\n",
    "    w = tf.get_variable('fc_W', \n",
    "        [in_tensors.get_shape()[1], n_units],\n",
    "        tf.float32,\n",
    "        tf.contrib.layers.xavier_initializer())\n",
    "    b = tf.get_variable('fc_B',\n",
    "        [n_units, ],\n",
    "        tf.float32,\n",
    "        tf.constant_initializer(0.0))\n",
    "    return tf.matmul(in_tensors, w) + b\n",
    "\n",
    "# apply leakyRELU activation to fully-connected layer\n",
    "def fc_layer(in_tensors, n_units):\n",
    "    return tf.nn.leaky_relu(fc_wo_activation_layer(in_tensors, n_units))\n",
    "\n",
    "# max-pooling layer\n",
    "def maxpool_layer(in_tensors, sampling):\n",
    "    return tf.nn.max_pool(in_tensors, [1, sampling, sampling, 1],  [1, sampling, sampling, 1], 'SAME')\n",
    "\n",
    "# convolutional layer\n",
    "def conv_layer(in_tensors, kernel_size, n_units):\n",
    "    w = tf.get_variable('conv_W',\n",
    "                       [kernel_size, kernel_size, in_tensors.get_shape()[3], n_units],\n",
    "                       tf.float32,\n",
    "                       tf.contrib.layers.xavier_initializer())\n",
    "    b = tf.get_variable('conv_B',\n",
    "                       [n_units, ],\n",
    "                       tf.float32,\n",
    "                       tf.constant_initializer(0.0))\n",
    "    \n",
    "    return tf.nn.leaky_relu(tf.nn.conv2d(in_tensors, w, [1, 1, 1, 1], 'SAME') + b)\n",
    "\n",
    "# dropout\n",
    "def dropout(in_tensors, keep_proba, is_training):\n",
    "    return tf.cond(is_training, lambda: tf.nn.dropout(in_tensors, keep_proba), lambda: in_tensors)\n",
    "\n",
    "# build the model\n",
    "def model(in_tensors, is_training):\n",
    "    # first layer: 5x5 2d-conv, 32 filters, 2x maxpool, 20% dropout\n",
    "    with tf.variable_scope('l1'):\n",
    "        l1 = maxpool_layer(conv_layer(in_tensors, 5, 32), 2)\n",
    "        l1_out = dropout(l1, 0.8, is_training)\n",
    "  \n",
    "    # second layer: 5x5 2d-conv, 64 filters, 2x maxpool, 20% dropout\n",
    "    with tf.variable_scope('l2'):\n",
    "        l2 = maxpool_layer(conv_layer(l1_out, 5, 64), 2)\n",
    "        l2_out = dropout(l2, 0.8, is_training)\n",
    "\n",
    "    with tf.variable_scope('flatten'):\n",
    "        l2_out_flat = tf.layers.flatten(l2_out)\n",
    "\n",
    "    # fully collected layer, 1024 neurons, 40% dropout \n",
    "    with tf.variable_scope('l3'):\n",
    "        l3 = fc_layer(l2_out_flat, 1024)\n",
    "        l3_out = dropout(l3, 0.6, is_training)\n",
    "\n",
    "    # Output\n",
    "    with tf.variable_scope('out'):\n",
    "        out_tensors = fc_wo_activation_layer(l3_out, num_classes)\n",
    "\n",
    "    return out_tensors"
   ]
  },
  {
   "cell_type": "code",
   "execution_count": 46,
   "metadata": {},
   "outputs": [],
   "source": [
    "from sklearn.metrics import classification_report, confusion_matrix\n",
    "\n",
    "def train_model(X_train, y_train, X_test, y_test, learning_rate, max_epochs, batch_size):\n",
    "    in_X_tensors_batch = tf.placeholder(tf.float32, shape = (None, resized_image[0], resized_image[1], 1))\n",
    "    in_y_tensors_batch = tf.placeholder(tf.float32, shape = (None, num_classes))\n",
    "    is_training = tf.placeholder(tf.bool)\n",
    "    \n",
    "    logits = model(in_X_tensors_batch, is_training)\n",
    "    out_y_pred = tf.nn.softmax(logits)\n",
    "    loss_score = tf.nn.softmax_cross_entropy_with_logits(logits=logits, labels=in_y_tensors_batch)\n",
    "    loss = tf.reduce_mean(loss_score)\n",
    "    optimizer = tf.train.AdamOptimizer(learning_rate).minimize(loss)\n",
    "    \n",
    "    with tf.Session() as session:\n",
    "        session.run(tf.global_variables_initializer())\n",
    "        \n",
    "        for epoch in range(max_epochs):\n",
    "            print(\"Epoch=\", epoch)\n",
    "            tf_score = []\n",
    "\n",
    "            for minibatch in minibatcher(X_train, y_train, batch_size, shuffle = True):\n",
    "                tf_output = session.run([optimizer, loss], \n",
    "                                        feed_dict = {in_X_tensors_batch : minibatch[0], \n",
    "                                                     in_y_tensors_batch : minibatch[1],\n",
    "                                                     is_training : True})\n",
    "                \n",
    "                tf_score.append(tf_output[1])\n",
    "            print(\" train_loss_score=\", np.mean(tf_score))\n",
    "    \n",
    "        # test the performace of the model on the testing set\n",
    "        print(\"TEST SET PERFORMANCE\")\n",
    "        y_test_pred, test_loss  = session.run([out_y_pred, loss], \n",
    "                                              feed_dict = {in_X_tensors_batch : X_test, \n",
    "                                                           in_y_tensors_batch : y_test,\n",
    "                                                           is_training : False})\n",
    "\n",
    "        print(\" test_loss_score=\", test_loss)\n",
    "        y_test_pred_classified = np.argmax(y_test_pred, axis=1).astype(np.int32)\n",
    "        y_test_true_classified = np.argmax(y_test, axis=1).astype(np.int32)\n",
    "        print(classification_report(y_test_true_classified, y_test_pred_classified))\n",
    "\n",
    "        cm = confusion_matrix(y_test_true_classified, y_test_pred_classified)\n",
    "\n",
    "        plt.imshow(cm, interpolation='nearest', cmap=plt.cm.Blues)\n",
    "        plt.colorbar()\n",
    "        plt.tight_layout()\n",
    "        plt.show()\n",
    "\n",
    "        # And the log2 version, to enphasize the misclassifications\n",
    "        plt.imshow(np.log2(cm + 1), interpolation='nearest', cmap=plt.get_cmap(\"tab20\"))\n",
    "        plt.colorbar()\n",
    "        plt.tight_layout()\n",
    "        plt.show()"
   ]
  },
  {
   "cell_type": "code",
   "execution_count": 47,
   "metadata": {},
   "outputs": [
    {
     "name": "stdout",
     "output_type": "stream",
     "text": [
      "Epoch= 0\n",
      " train_loss_score= 4.8184233\n",
      "Epoch= 1\n",
      " train_loss_score= 0.78672546\n",
      "Epoch= 2\n",
      " train_loss_score= 0.3658465\n",
      "Epoch= 3\n",
      " train_loss_score= 0.21201918\n",
      "Epoch= 4\n",
      " train_loss_score= 0.15547252\n",
      "Epoch= 5\n",
      " train_loss_score= 0.11006028\n",
      "Epoch= 6\n",
      " train_loss_score= 0.083629854\n",
      "Epoch= 7\n",
      " train_loss_score= 0.0797572\n",
      "Epoch= 8\n",
      " train_loss_score= 0.0677111\n",
      "Epoch= 9\n",
      " train_loss_score= 0.059890416\n",
      "TEST SET PERFORMANCE\n",
      " test_loss_score= 0.05197122\n",
      "              precision    recall  f1-score   support\n",
      "\n",
      "           0       0.96      1.00      0.98        44\n",
      "           1       1.00      0.99      0.99       594\n",
      "           2       0.98      0.99      0.99       560\n",
      "           3       0.99      0.94      0.97       348\n",
      "           4       1.00      1.00      1.00       529\n",
      "           5       0.98      0.97      0.97       462\n",
      "           6       0.99      1.00      0.99        81\n",
      "           7       1.00      0.99      0.99       336\n",
      "           8       0.97      1.00      0.98       385\n",
      "           9       0.99      1.00      0.99       359\n",
      "          10       1.00      0.98      0.99       461\n",
      "          11       0.99      0.98      0.98       291\n",
      "          12       1.00      0.98      0.99       548\n",
      "          13       1.00      0.99      1.00       549\n",
      "          14       0.98      1.00      0.99       197\n",
      "          15       0.99      1.00      0.99       152\n",
      "          16       1.00      1.00      1.00       108\n",
      "          17       1.00      0.99      0.99       286\n",
      "          18       0.97      0.99      0.98       288\n",
      "          19       1.00      1.00      1.00        53\n",
      "          20       1.00      0.96      0.98        90\n",
      "          21       0.95      0.98      0.96        82\n",
      "          22       1.00      1.00      1.00       107\n",
      "          23       0.98      0.99      0.98       138\n",
      "          24       1.00      1.00      1.00        68\n",
      "          25       0.99      0.99      0.99       369\n",
      "          26       0.98      0.98      0.98       152\n",
      "          27       0.97      1.00      0.98        60\n",
      "          28       0.96      0.98      0.97       129\n",
      "          29       0.96      0.99      0.97        77\n",
      "          30       1.00      0.96      0.98       118\n",
      "          31       0.99      0.99      0.99       201\n",
      "          32       0.94      1.00      0.97        48\n",
      "          33       0.99      0.99      0.99       182\n",
      "          34       0.97      0.99      0.98       117\n",
      "          35       0.97      1.00      0.98       290\n",
      "          36       1.00      0.98      0.99       105\n",
      "          37       1.00      0.98      0.99        60\n",
      "          38       1.00      1.00      1.00       517\n",
      "          39       1.00      1.00      1.00        69\n",
      "          40       0.93      1.00      0.96        77\n",
      "          41       1.00      0.98      0.99        60\n",
      "          42       1.00      1.00      1.00        56\n",
      "\n",
      "   micro avg       0.99      0.99      0.99      9803\n",
      "   macro avg       0.98      0.99      0.99      9803\n",
      "weighted avg       0.99      0.99      0.99      9803\n",
      "\n"
     ]
    },
    {
     "data": {
      "image/png": "[encoded data removed]",
      "text/plain": [
       "<Figure size 432x288 with 2 Axes>"
      ]
     },
     "metadata": {
      "needs_background": "light"
     },
     "output_type": "display_data"
    },
    {
     "data": {
      "image/png": "[encoded data removed]",
      "text/plain": [
       "<Figure size 432x288 with 2 Axes>"
      ]
     },
     "metadata": {
      "needs_background": "light"
     },
     "output_type": "display_data"
    }
   ],
   "source": [
    "# start to run the model\n",
    "tf.reset_default_graph()\n",
    "train_model(X_train, y_train, X_test, y_test, 0.001, 10, 256)"
   ]
  },
  {
   "cell_type": "code",
   "execution_count": null,
   "metadata": {},
   "outputs": [],
   "source": []
  }
 ],
 "metadata": {
  "kernelspec": {
   "display_name": "Python 3",
   "language": "python",
   "name": "python3"
  },
  "language_info": {
   "codemirror_mode": {
    "name": "ipython",
    "version": 3
   },
   "file_extension": ".py",
   "mimetype": "text/x-python",
   "name": "python",
   "nbconvert_exporter": "python",
   "pygments_lexer": "ipython3",
   "version": "3.7.3"
  }
 },
 "nbformat": 4,
 "nbformat_minor": 2
}
